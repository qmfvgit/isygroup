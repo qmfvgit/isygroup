{
  "nbformat": 4,
  "nbformat_minor": 0,
  "metadata": {
    "colab": {
      "provenance": [],
      "toc_visible": true,
      "include_colab_link": true
    },
    "kernelspec": {
      "name": "python3",
      "display_name": "Python 3"
    },
    "language_info": {
      "name": "python"
    }
  },
  "cells": [
    {
      "cell_type": "markdown",
      "metadata": {
        "id": "view-in-github",
        "colab_type": "text"
      },
      "source": [
        "<a href=\"https://colab.research.google.com/github/qmfvgit/isygroup/blob/main/ISY_Assessment03.ipynb\" target=\"_parent\"><img src=\"https://colab.research.google.com/assets/colab-badge.svg\" alt=\"Open In Colab\"/></a>"
      ]
    },
    {
      "cell_type": "code",
      "execution_count": null,
      "metadata": {
        "id": "WVAzjVWcBXFv"
      },
      "outputs": [],
      "source": [
        "# @Authors:\n",
        "# Domingo\tMiguel Carlo\tmiguel.domingo@student.torrens.edu.au\tA00111189\n",
        "# Pilapitiya gedara\tAshen sandun pilapitiya\tashen.gedara@student.torrens.edu.au\tA00087177\n",
        "# Villalobos\tQueenie May\tqueenie.villalobos@student.torrens.edu.au\tA00101662\n",
        "# Jin\tQiaoyi\tqiaoyi.jin@student.torrens.edu.au\tA00094189"
      ]
    },
    {
      "cell_type": "code",
      "source": [
        "# import libraries\n",
        "# QFV"
      ],
      "metadata": {
        "id": "jo8h2FQGCvFb"
      },
      "execution_count": null,
      "outputs": []
    },
    {
      "cell_type": "markdown",
      "source": [
        "\n",
        "\n",
        "```\n",
        "# This is formatted as code\n",
        "```\n",
        "\n",
        "# New Section"
      ],
      "metadata": {
        "id": "AZ_uK_YTIsRh"
      }
    },
    {
      "cell_type": "code",
      "source": [],
      "metadata": {
        "id": "dQg2KvZyIx05"
      },
      "execution_count": null,
      "outputs": []
    },
    {
      "cell_type": "markdown",
      "source": [
        "test"
      ],
      "metadata": {
        "id": "iprvCIOIJDmH"
      }
    },
    {
      "cell_type": "code",
      "source": [],
      "metadata": {
        "id": "Y9zmmfvxJEg8"
      },
      "execution_count": null,
      "outputs": []
    },
    {
      "cell_type": "code",
      "source": [
        "# import"
      ],
      "metadata": {
        "id": "8Y-8n09XLAob"
      },
      "execution_count": null,
      "outputs": []
    },
    {
      "cell_type": "markdown",
      "source": [
        "# New Section"
      ],
      "metadata": {
        "id": "sLWBN4fxcNtH"
      }
    },
    {
      "cell_type": "markdown",
      "source": [],
      "metadata": {
        "id": "G5nrQWKMcQQX"
      }
    },
    {
      "cell_type": "code",
      "source": [],
      "metadata": {
        "id": "WrjDBHs0cPtc"
      },
      "execution_count": null,
      "outputs": []
    }
  ]
}